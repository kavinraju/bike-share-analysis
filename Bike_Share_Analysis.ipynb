{
 "cells": [
  {
   "cell_type": "markdown",
   "metadata": {},
   "source": [
    "# 2016 US Bike Share Activity Snapshot\n",
    "\n",
    "## Table of Contents\n",
    "- [Introduction](#intro)\n",
    "- [Posing Questions](#pose_questions)\n",
    "- [Data Collection and Wrangling](#wrangling)\n",
    "  - [Condensing the Trip Data](#condensing)\n",
    "- [Exploratory Data Analysis](#eda)\n",
    "  - [Statistics](#statistics)\n",
    "  - [Visualizations](#visualizations)\n",
    "- [Performing Your Own Analysis](#eda_continued)\n",
    "- [Conclusions](#conclusions)\n",
    "\n",
    "<a id='intro'></a>\n",
    "## Introduction\n",
    "\n",
    "> **Tip**: Quoted sections like this will provide helpful instructions on how to navigate and use a Jupyter notebook.\n",
    "\n",
    "Over the past decade, bicycle-sharing systems have been growing in number and popularity in cities across the world. Bicycle-sharing systems allow users to rent bicycles for short trips, typically 30 minutes or less. Thanks to the rise in information technologies, it is easy for a user of the system to access a dock within the system to unlock or return bicycles. These technologies also provide a wealth of data that can be used to explore how these bike-sharing systems are used.\n",
    "\n",
    "In this project, you will perform an exploratory analysis on data provided by [Motivate](https://www.motivateco.com/), a bike-share system provider for many major cities in the United States. You will compare the system usage between three large cities: New York City, Chicago, and Washington, DC. You will also see if there are any differences within each system for those users that are registered, regular users and those users that are short-term, casual users."
   ]
  },
  {
   "cell_type": "markdown",
   "metadata": {},
   "source": [
    "<a id='pose_questions'></a>\n",
    "## Posing Questions\n",
    "\n",
    "Before looking at the bike sharing data, you should start by asking questions you might want to understand about the bike share data. Consider, for example, if you were working for Motivate. What kinds of information would you want to know about in order to make smarter business decisions? If you were a user of the bike-share service, what factors might influence how you would want to use the service?\n",
    "\n",
    "**Question 1**: Write at least two questions related to bike sharing that you think could be answered by data.\n",
    "\n",
    "**Answer**:  \n",
    "1) What is the age of the users, their gender?<br>\n",
    "2) How long they use this service?<br>\n",
    "3) Where is this service very active among users?<br>\n",
    "4) Is this service available 24X7 ?<br>\n",
    "             \n",
    "            \n",
    "\n",
    "> **Tip**: If you double click on this cell, you will see the text change so that all of the formatting is removed. This allows you to edit this block of text. This block of text is written using [Markdown](http://daringfireball.net/projects/markdown/syntax), which is a way to format text using headers, links, italics, and many other options using a plain-text syntax. You will also use Markdown later in the Nanodegree program. Use **Shift** + **Enter** or **Shift** + **Return** to run the cell and show its rendered form."
   ]
  },
  {
   "cell_type": "markdown",
   "metadata": {},
   "source": [
    "<a id='wrangling'></a>\n",
    "## Data Collection and Wrangling\n",
    "\n",
    "Now it's time to collect and explore our data. In this project, we will focus on the record of individual trips taken in 2016 from our selected cities: New York City, Chicago, and Washington, DC. Each of these cities has a page where we can freely download the trip data.:\n",
    "\n",
    "- New York City (Citi Bike): [Link](https://www.citibikenyc.com/system-data)\n",
    "- Chicago (Divvy): [Link](https://www.divvybikes.com/system-data)\n",
    "- Washington, DC (Capital Bikeshare): [Link](https://www.capitalbikeshare.com/system-data)\n",
    "\n",
    "If you visit these pages, you will notice that each city has a different way of delivering its data. Chicago updates with new data twice a year, Washington DC is quarterly, and New York City is monthly. **However, you do not need to download the data yourself.** The data has already been collected for you in the `/data/` folder of the project files. While the original data for 2016 is spread among multiple files for each city, the files in the `/data/` folder collect all of the trip data for the year into one file per city. Some data wrangling of inconsistencies in timestamp format within each city has already been performed for you. In addition, a random 2% sample of the original data is taken to make the exploration more manageable. \n",
    "\n",
    "**Question 2**: However, there is still a lot of data for us to investigate, so it's a good idea to start off by looking at one entry from each of the cities we're going to analyze. Run the first code cell below to load some packages and functions that you'll be using in your analysis. Then, complete the second code cell to print out the first trip recorded from each of the cities (the second line of each data file).\n",
    "\n",
    "> **Tip**: You can run a code cell like you formatted Markdown cells above by clicking on the cell and using the keyboard shortcut **Shift** + **Enter** or **Shift** + **Return**. Alternatively, a code cell can be executed using the **Play** button in the toolbar after selecting it. While the cell is running, you will see an asterisk in the message to the left of the cell, i.e. `In [*]:`. The asterisk will change into a number to show that execution has completed, e.g. `In [1]`. If there is output, it will show up as `Out [1]:`, with an appropriate number to match the \"In\" number."
   ]
  },
  {
   "cell_type": "markdown",
   "metadata": {},
   "source": [
    "<b>I have given</b> // UNCOMMENT TO SEE OUTPUT  <b>in few lines, to see the output it can be uncommented.</b>"
   ]
  },
  {
   "cell_type": "code",
   "execution_count": 1,
   "metadata": {},
   "outputs": [],
   "source": [
    "## import all necessary packages and functions.\n",
    "import csv # read and write csv files\n",
    "from datetime import datetime as dt # operations to parse dates\n",
    "from pprint import pprint # use to print data structures like dictionaries in\n",
    "                          # a nicer way than the base print function.\n",
    "    \n",
    "import pandas as pd\n",
    "import numpy as np\n",
    "import math"
   ]
  },
  {
   "cell_type": "code",
   "execution_count": 2,
   "metadata": {},
   "outputs": [
    {
     "name": "stdout",
     "output_type": "stream",
     "text": [
      "\n",
      "City: NYC\n",
      "OrderedDict([('tripduration', '839'),\n",
      "             ('starttime', '1/1/2016 00:09:55'),\n",
      "             ('stoptime', '1/1/2016 00:23:54'),\n",
      "             ('start station id', '532'),\n",
      "             ('start station name', 'S 5 Pl & S 4 St'),\n",
      "             ('start station latitude', '40.710451'),\n",
      "             ('start station longitude', '-73.960876'),\n",
      "             ('end station id', '401'),\n",
      "             ('end station name', 'Allen St & Rivington St'),\n",
      "             ('end station latitude', '40.72019576'),\n",
      "             ('end station longitude', '-73.98997825'),\n",
      "             ('bikeid', '17109'),\n",
      "             ('usertype', 'Customer'),\n",
      "             ('birth year', ''),\n",
      "             ('gender', '0')])\n",
      "\n",
      "City: Chicago\n",
      "OrderedDict([('trip_id', '9080545'),\n",
      "             ('starttime', '3/31/2016 23:30'),\n",
      "             ('stoptime', '3/31/2016 23:46'),\n",
      "             ('bikeid', '2295'),\n",
      "             ('tripduration', '926'),\n",
      "             ('from_station_id', '156'),\n",
      "             ('from_station_name', 'Clark St & Wellington Ave'),\n",
      "             ('to_station_id', '166'),\n",
      "             ('to_station_name', 'Ashland Ave & Wrightwood Ave'),\n",
      "             ('usertype', 'Subscriber'),\n",
      "             ('gender', 'Male'),\n",
      "             ('birthyear', '1990')])\n",
      "\n",
      "City: Washington\n",
      "OrderedDict([('Duration (ms)', '427387'),\n",
      "             ('Start date', '3/31/2016 22:57'),\n",
      "             ('End date', '3/31/2016 23:04'),\n",
      "             ('Start station number', '31602'),\n",
      "             ('Start station', 'Park Rd & Holmead Pl NW'),\n",
      "             ('End station number', '31207'),\n",
      "             ('End station', 'Georgia Ave and Fairmont St NW'),\n",
      "             ('Bike number', 'W20842'),\n",
      "             ('Member Type', 'Registered')])\n"
     ]
    }
   ],
   "source": [
    "def print_first_point(filename):\n",
    "    \"\"\"\n",
    "    This function prints and returns the first data point (second row) from\n",
    "    a csv file that includes a header row.\n",
    "    \"\"\"\n",
    "    # print city name for reference\n",
    "    city = filename.split('-')[0].split('/')[-1]\n",
    "    print('\\nCity: {}'.format(city)) \n",
    "    \n",
    "    with open(filename, 'r') as f_in:\n",
    "        ## TODO: Use the csv library to set up a DictReader object. ##\n",
    "        ## see https://docs.python.org/3/library/csv.html           ##\n",
    "        trip_reader = csv.DictReader(f_in)\n",
    "            \n",
    "        ## TODO: Use a function on the DictReader object to read the     ##\n",
    "        ## first trip from the data file and store it in a variable.     ##\n",
    "        ## see https://docs.python.org/3/library/csv.html#reader-objects ##\n",
    "        first_trip = next(trip_reader)\n",
    "    \n",
    "        ## TODO: Use the pprint library to print the first trip. ##\n",
    "        ## see https://docs.python.org/3/library/pprint.html     ##\n",
    "        pprint(first_trip) \n",
    "    \n",
    "    # output city name and first trip for later testing\n",
    "    return (city, first_trip)\n",
    "\n",
    "# list of files for each city\n",
    "data_files = ['./data/NYC-CitiBike-2016.csv',\n",
    "              './data/Chicago-Divvy-2016.csv',\n",
    "              './data/Washington-CapitalBikeshare-2016.csv',]\n",
    "\n",
    "# print the first trip from each file, store in dictionary\n",
    "example_trips = {}\n",
    "for data_file in data_files:\n",
    "    city, first_trip = print_first_point(data_file)\n",
    "    example_trips[city] = first_trip"
   ]
  },
  {
   "cell_type": "markdown",
   "metadata": {},
   "source": [
    "# The following code creates a list of Dictionary Data of cities"
   ]
  },
  {
   "cell_type": "code",
   "execution_count": 3,
   "metadata": {},
   "outputs": [],
   "source": [
    "nyc = []\n",
    "chicago = []\n",
    "washington = []\n",
    "\n",
    "def query_data_from_csv(filename):\n",
    "    with open(filename , 'r') as f:\n",
    "        reader = csv.DictReader(f)\n",
    "        return list(reader)\n",
    "    return None\n",
    "\n",
    "\n",
    "nyc = query_data_from_csv(data_files[0])\n",
    "chicago = query_data_from_csv(data_files[1])\n",
    "washington = query_data_from_csv(data_files[2])    "
   ]
  },
  {
   "cell_type": "markdown",
   "metadata": {},
   "source": [
    "If everything has been filled out correctly, you should see below the printout of each city name (which has been parsed from the data file name) that the first trip has been parsed in the form of a dictionary. When you set up a `DictReader` object, the first row of the data file is normally interpreted as column names. Every other row in the data file will use those column names as keys, as a dictionary is generated for each row.\n",
    "\n",
    "This will be useful since we can refer to quantities by an easily-understandable label instead of just a numeric index. For example, if we have a trip stored in the variable `row`, then we would rather get the trip duration from `row['duration']` instead of `row[0]`.\n",
    "\n",
    "<a id='condensing'></a>\n",
    "### Condensing the Trip Data\n",
    "\n",
    "It should also be observable from the above printout that each city provides different information. Even where the information is the same, the column names and formats are sometimes different. To make things as simple as possible when we get to the actual exploration, we should trim and clean the data. Cleaning the data makes sure that the data formats across the cities are consistent, while trimming focuses only on the parts of the data we are most interested in to make the exploration easier to work with.\n",
    "\n",
    "You will generate new data files with five values of interest for each trip: trip duration, starting month, starting hour, day of the week, and user type. Each of these may require additional wrangling depending on the city:\n",
    "\n",
    "- **Duration**: This has been given to us in seconds (New York, Chicago) or milliseconds (Washington). A more natural unit of analysis will be if all the trip durations are given in terms of minutes.\n",
    "- **Month**, **Hour**, **Day of Week**: Ridership volume is likely to change based on the season, time of day, and whether it is a weekday or weekend. Use the start time of the trip to obtain these values. The New York City data includes the seconds in their timestamps, while Washington and Chicago do not. The [`datetime`](https://docs.python.org/3/library/datetime.html) package will be very useful here to make the needed conversions.\n",
    "- **User Type**: It is possible that users who are subscribed to a bike-share system will have different patterns of use compared to users who only have temporary passes. Washington divides its users into two types: 'Registered' for users with annual, monthly, and other longer-term subscriptions, and 'Casual', for users with 24-hour, 3-day, and other short-term passes. The New York and Chicago data uses 'Subscriber' and 'Customer' for these groups, respectively. For consistency, you will convert the Washington labels to match the other two.\n",
    "\n",
    "\n",
    "**Question 3a**: Complete the helper functions in the code cells below to address each of the cleaning tasks described above."
   ]
  },
  {
   "cell_type": "markdown",
   "metadata": {},
   "source": [
    "## Cleaning Data"
   ]
  },
  {
   "cell_type": "code",
   "execution_count": 4,
   "metadata": {},
   "outputs": [
    {
     "data": {
      "text/plain": [
       "OrderedDict([('trip_id', '9080545'),\n",
       "             ('starttime', '3/31/2016 23:30'),\n",
       "             ('stoptime', '3/31/2016 23:46'),\n",
       "             ('bikeid', '2295'),\n",
       "             ('tripduration', '926'),\n",
       "             ('from_station_id', '156'),\n",
       "             ('from_station_name', 'Clark St & Wellington Ave'),\n",
       "             ('to_station_id', '166'),\n",
       "             ('to_station_name', 'Ashland Ave & Wrightwood Ave'),\n",
       "             ('usertype', 'Subscriber'),\n",
       "             ('gender', 'Male'),\n",
       "             ('birthyear', '1990')])"
      ]
     },
     "execution_count": 4,
     "metadata": {},
     "output_type": "execute_result"
    }
   ],
   "source": [
    "chicago[0] "
   ]
  },
  {
   "cell_type": "code",
   "execution_count": 5,
   "metadata": {},
   "outputs": [
    {
     "data": {
      "text/plain": [
       "OrderedDict([('tripduration', 798),\n",
       "             ('starttime', datetime.datetime(2016, 1, 1, 2, 2, 40)),\n",
       "             ('stoptime', datetime.datetime(2016, 1, 1, 2, 15, 58)),\n",
       "             ('start station id', 152),\n",
       "             ('start station name', 'Warren St & Church St'),\n",
       "             ('start station latitude', 40.71473993),\n",
       "             ('start station longitude', -74.00910627),\n",
       "             ('end station id', 410),\n",
       "             ('end station name', 'Suffolk St & Stanton St'),\n",
       "             ('end station latitude', 40.72066442),\n",
       "             ('end station longitude', -73.98517977),\n",
       "             ('bikeid', '24119'),\n",
       "             ('usertype', 'Subscriber'),\n",
       "             ('birth year', 1987),\n",
       "             ('gender', '1')])"
      ]
     },
     "execution_count": 5,
     "metadata": {},
     "output_type": "execute_result"
    }
   ],
   "source": [
    "def parse_date(date):\n",
    "    if date == '':\n",
    "        return None\n",
    "    else:\n",
    "        return dt.strptime(date, '%m/%d/%Y %H:%M:%S')\n",
    "    \n",
    "def parse_date_chicago(date):\n",
    "    if date == '':\n",
    "        return None\n",
    "    else:\n",
    "        return dt.strptime(date, '%m/%d/%Y %H:%M')\n",
    "    \n",
    "def parse_int(i):\n",
    "    if i == '':\n",
    "        return None\n",
    "    else:\n",
    "        return int(i)\n",
    "    \n",
    "def parse_float(i):\n",
    "    if i == '':\n",
    "        return None\n",
    "    else:\n",
    "        return float(i)\n",
    "    \n",
    "\n",
    "for data in nyc:\n",
    "    data['tripduration'] = parse_int(data['tripduration'])\n",
    "    data['starttime'] = parse_date(data['starttime'])\n",
    "    data['stoptime'] = parse_date(data['stoptime'])\n",
    "    data['start station id'] = parse_int(data['start station id'])\n",
    "    data['start station latitude'] = parse_float(data['start station latitude'])\n",
    "    data['start station longitude'] = parse_float(data['start station longitude'])\n",
    "    data['end station id'] = parse_int(data['end station id'])\n",
    "    data['end station latitude'] = parse_float(data['end station latitude'])\n",
    "    data['end station longitude'] = parse_float(data['end station longitude'])\n",
    "    data['birth year'] = parse_int(data['birth year'])\n",
    "\n",
    "nyc[10]     "
   ]
  },
  {
   "cell_type": "code",
   "execution_count": 6,
   "metadata": {},
   "outputs": [
    {
     "data": {
      "text/plain": [
       "OrderedDict([('trip_id', 9080545),\n",
       "             ('starttime', datetime.datetime(2016, 3, 31, 23, 30)),\n",
       "             ('stoptime', datetime.datetime(2016, 3, 31, 23, 46)),\n",
       "             ('bikeid', '2295'),\n",
       "             ('tripduration', 926),\n",
       "             ('from_station_id', 156),\n",
       "             ('from_station_name', 'Clark St & Wellington Ave'),\n",
       "             ('to_station_id', 166),\n",
       "             ('to_station_name', 'Ashland Ave & Wrightwood Ave'),\n",
       "             ('usertype', 'Subscriber'),\n",
       "             ('gender', 'Male'),\n",
       "             ('birthyear', 1990)])"
      ]
     },
     "execution_count": 6,
     "metadata": {},
     "output_type": "execute_result"
    }
   ],
   "source": [
    "for data in chicago:\n",
    "    data['trip_id'] = parse_int(data['trip_id'])\n",
    "    data['starttime'] = parse_date_chicago(data['starttime'])\n",
    "    data['stoptime'] = parse_date_chicago(data['stoptime'])\n",
    "    data['tripduration'] = parse_int(data['tripduration'])\n",
    "    data['from_station_id'] = parse_int(data['from_station_id'])\n",
    "    data['to_station_id'] = parse_int(data['to_station_id'])\n",
    "    data['birthyear'] = parse_int(data['birthyear'])\n",
    "    \n",
    "chicago[0]   "
   ]
  },
  {
   "cell_type": "code",
   "execution_count": 7,
   "metadata": {},
   "outputs": [
    {
     "data": {
      "text/plain": [
       "OrderedDict([('Duration (ms)', 427387),\n",
       "             ('Start date', datetime.datetime(2016, 3, 31, 22, 57)),\n",
       "             ('End date', datetime.datetime(2016, 3, 31, 23, 4)),\n",
       "             ('Start station number', 31602),\n",
       "             ('Start station', 'Park Rd & Holmead Pl NW'),\n",
       "             ('End station number', 31207),\n",
       "             ('End station', 'Georgia Ave and Fairmont St NW'),\n",
       "             ('Bike number', 'W20842'),\n",
       "             ('Member Type', 'Registered')])"
      ]
     },
     "execution_count": 7,
     "metadata": {},
     "output_type": "execute_result"
    }
   ],
   "source": [
    "for data in washington:\n",
    "    data['Duration (ms)'] = parse_int(data['Duration (ms)'])\n",
    "    data['Start date'] = parse_date_chicago(data['Start date'])\n",
    "    data['End date'] = parse_date_chicago(data['End date'])\n",
    "    data['Start station number'] = parse_int(data['Start station number'])\n",
    "    data['End station number'] = parse_int(data['End station number'])\n",
    "\n",
    "washington[0] "
   ]
  },
  {
   "cell_type": "code",
   "execution_count": 8,
   "metadata": {},
   "outputs": [],
   "source": [
    "def convert_into_its_datatype( data , city):\n",
    "    if city == 'NYC':\n",
    "        #print(data)\n",
    "        data['tripduration'] = parse_int(data['tripduration'])\n",
    "        data['starttime'] = parse_date(data['starttime'])\n",
    "        data['stoptime'] = parse_date(data['stoptime'])\n",
    "        data['start station id'] = parse_int(data['start station id'])\n",
    "        data['start station latitude'] = parse_float(data['start station latitude'])\n",
    "        data['start station longitude'] = parse_float(data['start station longitude'])\n",
    "        data['end station id'] = parse_int(data['end station id'])\n",
    "        data['end station latitude'] = parse_float(data['end station latitude'])\n",
    "        data['end station longitude'] = parse_float(data['end station longitude'])\n",
    "        #data['birth year'] = parse_int(data['birth year'])\n",
    "    elif city == 'Chicago':            \n",
    "        #print(data)\n",
    "        data['trip_id'] = parse_int(data['trip_id'])\n",
    "        data['starttime'] = parse_date_chicago(data['starttime'])\n",
    "        data['stoptime'] = parse_date_chicago(data['stoptime'])\n",
    "        data['tripduration'] = parse_int(data['tripduration'])\n",
    "        data['from_station_id'] = parse_int(data['from_station_id'])\n",
    "        data['to_station_id'] = parse_int(data['to_station_id'])\n",
    "        #data['birthyear'] = parse_int(data['birthyear'])\n",
    "    elif city == 'Washington':\n",
    "        #print(data)\n",
    "        data['Duration (ms)'] = parse_int(data['Duration (ms)'])\n",
    "        data['Start date'] = parse_date_chicago(data['Start date'])\n",
    "        data['End date'] = parse_date_chicago(data['End date'])\n",
    "        data['Start station number'] = parse_int(data['Start station number'])\n",
    "        data['End station number'] = parse_int(data['End station number'])\n",
    "        \n",
    "    return data"
   ]
  },
  {
   "cell_type": "code",
   "execution_count": 9,
   "metadata": {},
   "outputs": [],
   "source": [
    "def milli_to_minutes(milli_sec):\n",
    "    '''\n",
    "    This function takes in time as milli seconds and convert it into minutes and return in minutes\n",
    "    '''\n",
    "    minutes=(milli_sec/(1000*60))%60\n",
    "    #minutes = int(minutes)\n",
    "    return minutes"
   ]
  },
  {
   "cell_type": "code",
   "execution_count": 10,
   "metadata": {},
   "outputs": [],
   "source": [
    "def duration_in_mins(datum, city):\n",
    "    \"\"\"\n",
    "    Takes as input a dictionary containing info about a single trip (datum) and\n",
    "    its origin city (city) and returns the trip duration in units of minutes.\n",
    "    \n",
    "    Remember that Washington is in terms of milliseconds while Chicago and NYC\n",
    "    are in terms of seconds. \n",
    "    \n",
    "    HINT: The csv module reads in all of the data as strings, including numeric\n",
    "    values. You will need a function to convert the strings into an appropriate\n",
    "    numeric type when making your transformations.\n",
    "    see https://docs.python.org/3/library/functions.html\n",
    "    \"\"\"\n",
    "    # YOUR CODE HERE\n",
    "    datum = convert_into_its_datatype(datum , city)\n",
    "    \n",
    "    \n",
    "    if city == 'NYC':\n",
    "        duration = datum['tripduration'] / 60\n",
    "    elif city == 'Chicago':    \n",
    "        duration = datum['tripduration'] /60\n",
    "        \n",
    "    elif city == 'Washington':\n",
    "        duration = milli_to_minutes( datum['Duration (ms)'] )\n",
    "        \n",
    "        \n",
    "    #print(duration) //UNCOMMENT TO SEE OUTPUT\n",
    "    return duration\n",
    "\n",
    "\n",
    "# Some tests to check that your code works. There should be no output if all of\n",
    "# the assertions pass. The `example_trips` dictionary was obtained from when\n",
    "# you printed the first trip from each of the original data files.\n",
    "tests = {'NYC': 13.9833,\n",
    "         'Chicago': 15.4333,\n",
    "         'Washington': 7.1231}\n",
    "for city in tests:\n",
    "    assert abs(duration_in_mins(example_trips[city], city) - tests[city]) < .001"
   ]
  },
  {
   "cell_type": "code",
   "execution_count": 11,
   "metadata": {},
   "outputs": [
    {
     "name": "stdout",
     "output_type": "stream",
     "text": [
      "OrderedDict([('tripduration', 839),\n",
      "             ('starttime', datetime.datetime(2016, 1, 1, 0, 9, 55)),\n",
      "             ('stoptime', datetime.datetime(2016, 1, 1, 0, 23, 54)),\n",
      "             ('start station id', 532),\n",
      "             ('start station name', 'S 5 Pl & S 4 St'),\n",
      "             ('start station latitude', 40.710451),\n",
      "             ('start station longitude', -73.960876),\n",
      "             ('end station id', 401),\n",
      "             ('end station name', 'Allen St & Rivington St'),\n",
      "             ('end station latitude', 40.72019576),\n",
      "             ('end station longitude', -73.98997825),\n",
      "             ('bikeid', '17109'),\n",
      "             ('usertype', 'Customer'),\n",
      "             ('birth year', ''),\n",
      "             ('gender', '0')])\n",
      "OrderedDict([('trip_id', 9080545),\n",
      "             ('starttime', datetime.datetime(2016, 3, 31, 23, 30)),\n",
      "             ('stoptime', datetime.datetime(2016, 3, 31, 23, 46)),\n",
      "             ('bikeid', '2295'),\n",
      "             ('tripduration', 926),\n",
      "             ('from_station_id', 156),\n",
      "             ('from_station_name', 'Clark St & Wellington Ave'),\n",
      "             ('to_station_id', 166),\n",
      "             ('to_station_name', 'Ashland Ave & Wrightwood Ave'),\n",
      "             ('usertype', 'Subscriber'),\n",
      "             ('gender', 'Male'),\n",
      "             ('birthyear', '1990')])\n",
      "OrderedDict([('Duration (ms)', 427387),\n",
      "             ('Start date', datetime.datetime(2016, 3, 31, 22, 57)),\n",
      "             ('End date', datetime.datetime(2016, 3, 31, 23, 4)),\n",
      "             ('Start station number', 31602),\n",
      "             ('Start station', 'Park Rd & Holmead Pl NW'),\n",
      "             ('End station number', 31207),\n",
      "             ('End station', 'Georgia Ave and Fairmont St NW'),\n",
      "             ('Bike number', 'W20842'),\n",
      "             ('Member Type', 'Registered')])\n"
     ]
    }
   ],
   "source": [
    "for city in example_trips:  \n",
    "    pprint(example_trips[city]) "
   ]
  },
  {
   "cell_type": "markdown",
   "metadata": {},
   "source": [
    "## Helper functions for time_of_trip() function"
   ]
  },
  {
   "cell_type": "code",
   "execution_count": 12,
   "metadata": {},
   "outputs": [],
   "source": [
    "def get_month(datum , city):\n",
    "    if city == 'NYC':\n",
    "        month= datum['starttime'].date().month\n",
    "    elif city == 'Chicago':\n",
    "        month = datum['starttime'].date().month\n",
    "    elif city == 'Washington':\n",
    "        month = datum['Start date'].date().month\n",
    "    return month    \n",
    "\n",
    "#print(get_month(example_trips['Washington'] , 'Washington')) //UNCOMMENT TO SEE OUTPUT\n",
    "\n",
    "def get_hour( datum, city ):\n",
    "    if city == 'NYC':\n",
    "        hour = datum['starttime'].time().hour\n",
    "    elif city == 'Chicago':\n",
    "        hour = datum['starttime'].time().hour\n",
    "    elif city == 'Washington':\n",
    "        hour = datum['Start date'].time().hour\n",
    "    return hour\n",
    "\n",
    "#print(get_hour(example_trips['Washington'] , 'Washington')) //UNCOMMENT TO SEE OUTPUT\n",
    "\n",
    "def get_weekDay( datum , city):\n",
    "    if city == 'NYC':\n",
    "        week_day = datum['starttime'].strftime('%A')\n",
    "    elif city == 'Chicago':\n",
    "        week_day = datum['starttime'].strftime('%A')\n",
    "    elif city == 'Washington':\n",
    "        week_day = datum['Start date'].strftime('%A')\n",
    "    return week_day\n",
    "\n",
    "#print(get_weekDay(example_trips['Washington'] , 'Washington'))  //UNCOMMENT TO SEE OUTPUT"
   ]
  },
  {
   "cell_type": "code",
   "execution_count": 13,
   "metadata": {},
   "outputs": [],
   "source": [
    "def time_of_trip(datum, city):\n",
    "    \"\"\"\n",
    "    Takes as input a dictionary containing info about a single trip (datum) and\n",
    "    its origin city (city) and returns the month, hour, and day of the week in\n",
    "    which the trip was made.\n",
    "    \n",
    "    Remember that NYC includes seconds, while Washington and Chicago do not.\n",
    "    \n",
    "    HINT: You should use the datetime module to parse the original date\n",
    "    strings into a format that is useful for extracting the desired information.\n",
    "    see https://docs.python.org/3/library/datetime.html#strftime-and-strptime-behavior\n",
    "    \"\"\"\n",
    "    \n",
    "    # YOUR CODE HERE\n",
    "    month = get_month(datum, city)\n",
    "    hour = get_hour(datum, city)\n",
    "    day_of_week = get_weekDay(datum, city)\n",
    "    \n",
    "    #print(month)\n",
    "    #print(hour)\n",
    "    #print(day_of_week)\n",
    "    \n",
    "    return (month, hour, day_of_week)\n",
    "\n",
    "\n",
    "# Some tests to check that your code works. There should be no output if all of\n",
    "# the assertions pass. The `example_trips` dictionary was obtained from when\n",
    "# you printed the first trip from each of the original data files.\n",
    "tests = {'NYC': (1, 0, 'Friday'),\n",
    "         'Chicago': (3, 23, 'Thursday'),\n",
    "         'Washington': (3, 22, 'Thursday')}\n",
    "\n",
    "for city in tests:\n",
    "    assert time_of_trip(example_trips[city], city) == tests[city]"
   ]
  },
  {
   "cell_type": "code",
   "execution_count": 14,
   "metadata": {},
   "outputs": [],
   "source": [
    "def type_of_user(datum, city):\n",
    "    \"\"\"\n",
    "    Takes as input a dictionary containing info about a single trip (datum) and\n",
    "    its origin city (city) and returns the type of system user that made the\n",
    "    trip.\n",
    "    \n",
    "    Remember that Washington has different category names compared to Chicago\n",
    "    and NYC. \n",
    "    \"\"\"\n",
    "    \n",
    "    # YOUR CODE HERE\n",
    "    if city == 'NYC':\n",
    "        user_type = datum['usertype']\n",
    "    elif city == 'Chicago':\n",
    "        user_type = datum['usertype']\n",
    "    elif city == 'Washington':\n",
    "        user_type = datum['Member Type']\n",
    "        if user_type == 'Registered':\n",
    "            user_type = 'Subscriber'\n",
    "        else:\n",
    "            user_type = 'Customer'\n",
    "    #print(user_type)   //UNCOMMENT TO SEE OUTPUT\n",
    "    return user_type\n",
    "\n",
    "\n",
    "# Some tests to check that your code works. There should be no output if all of\n",
    "# the assertions pass. The `example_trips` dictionary was obtained from when\n",
    "# you printed the first trip from each of the original data files.\n",
    "tests = {'NYC': 'Customer',\n",
    "         'Chicago': 'Subscriber',\n",
    "         'Washington': 'Subscriber'}\n",
    "\n",
    "for city in tests:\n",
    "    assert type_of_user(example_trips[city], city) == tests[city]"
   ]
  },
  {
   "cell_type": "markdown",
   "metadata": {},
   "source": [
    "**Question 3b**: Now, use the helper functions you wrote above to create a condensed data file for each city consisting only of the data fields indicated above. In the `/examples/` folder, you will see an example datafile from the [Bay Area Bike Share](http://www.bayareabikeshare.com/open-data) before and after conversion. Make sure that your output is formatted to be consistent with the example file."
   ]
  },
  {
   "cell_type": "code",
   "execution_count": 15,
   "metadata": {},
   "outputs": [],
   "source": [
    "def condense_data(in_file, out_file, city):\n",
    "    \"\"\"\n",
    "    This function takes full data from the specified input file\n",
    "    and writes the condensed data to a specified output file. The city\n",
    "    argument determines how the input file will be parsed.\n",
    "    \n",
    "    HINT: See the cell below to see how the arguments are structured!\n",
    "    \"\"\"\n",
    "    \n",
    "    with open(out_file, 'w') as f_out, open(in_file, 'r') as f_in:\n",
    "        # set up csv DictWriter object - writer requires column names for the\n",
    "        # first row as the \"fieldnames\" argument\n",
    "        out_colnames = ['duration', 'month', 'hour', 'day_of_week', 'user_type']        \n",
    "        trip_writer = csv.DictWriter(f_out, fieldnames = out_colnames)\n",
    "        trip_writer.writeheader()\n",
    "        \n",
    "        ## TODO: set up csv DictReader object ##\n",
    "        trip_reader = csv.DictReader(f_in)\n",
    "\n",
    "        # collect data from and process each row\n",
    "        for row in trip_reader:\n",
    "            # set up a dictionary to hold the values for the cleaned and trimmed\n",
    "            # data point\n",
    "            new_point = {}\n",
    "\n",
    "            ## TODO: use the helper functions to get the cleaned data from  ##\n",
    "            ## the original data dictionaries.                              ##\n",
    "            ## Note that the keys for the new_point dictionary should match ##\n",
    "            ## the column names set in the DictWriter object above.         ##\n",
    "            new_point['duration'] = duration_in_mins( row , city )\n",
    "            new_point['month'] , new_point['hour'] , new_point['day_of_week'] = time_of_trip( row , city )\n",
    "            new_point['user_type'] = type_of_user( row , city )      \n",
    "\n",
    "            ## TODO: write the processed information to the output file.     ##\n",
    "            ## see https://docs.python.org/3/library/csv.html#writer-objects ##\n",
    "            trip_writer.writerow(new_point)\n",
    "            \n",
    "            "
   ]
  },
  {
   "cell_type": "code",
   "execution_count": 16,
   "metadata": {},
   "outputs": [],
   "source": [
    "# Run this cell to check your work\n",
    "city_info = {'Washington': {'in_file': './data/Washington-CapitalBikeshare-2016.csv',\n",
    "                            'out_file': './data/Washington-2016-Summary.csv'},\n",
    "             'Chicago': {'in_file': './data/Chicago-Divvy-2016.csv',\n",
    "                         'out_file': './data/Chicago-2016-Summary.csv'},\n",
    "             'NYC': {'in_file': './data/NYC-CitiBike-2016.csv',\n",
    "                     'out_file': './data/NYC-2016-Summary.csv'}}\n",
    "\n",
    "for city, filenames in city_info.items():\n",
    "    condense_data(filenames['in_file'], filenames['out_file'], city)\n",
    "    #print_first_point(filenames['out_file'])"
   ]
  },
  {
   "cell_type": "markdown",
   "metadata": {},
   "source": [
    "> **Tip**: If you save a jupyter Notebook, the output from running code blocks will also be saved. However, the state of your workspace will be reset once a new session is started. Make sure that you run all of the necessary code blocks from your previous session to reestablish variables and functions before picking up where you last left off.\n",
    "\n",
    "<a id='eda'></a>\n",
    "## Exploratory Data Analysis\n",
    "\n",
    "Now that you have the data collected and wrangled, you're ready to start exploring the data. In this section you will write some code to compute descriptive statistics from the data. You will also be introduced to the `matplotlib` library to create some basic histograms of the data.\n",
    "\n",
    "<a id='statistics'></a>\n",
    "### Statistics\n",
    "\n",
    "First, let's compute some basic counts. The first cell below contains a function that uses the csv module to iterate through a provided data file, returning the number of trips made by subscribers and customers. The second cell runs this function on the example Bay Area data in the `/examples/` folder. Modify the cells to answer the question below.\n",
    "\n",
    "**Question 4a**: Which city has the highest number of trips? Which city has the highest proportion of trips made by subscribers? Which city has the highest proportion of trips made by short-term customers?\n",
    "\n",
    "**Answer**:\n",
    "<br>\n",
    "NYC has the highest number of trips.<br>\n",
    "NYC has the highest propoertion of trips made by subscribers.<br>\n",
    "Chicago has the highest proportion of trips made by short-term customers<br>"
   ]
  },
  {
   "cell_type": "code",
   "execution_count": 17,
   "metadata": {},
   "outputs": [],
   "source": [
    "def number_of_trips(filename):\n",
    "    \"\"\"\n",
    "    This function reads in a file with trip data and reports the number of\n",
    "    trips made by subscribers, customers, and total overall.\n",
    "    \"\"\"\n",
    "    with open(filename, 'r') as f_in:\n",
    "        # set up csv reader object\n",
    "        reader = csv.DictReader(f_in)\n",
    "        \n",
    "        # initialize count variables\n",
    "        n_subscribers = 0\n",
    "        n_customers = 0\n",
    "        \n",
    "        # tally up ride types\n",
    "        for row in reader:\n",
    "            if row['user_type'] == 'Subscriber':\n",
    "                n_subscribers += 1\n",
    "            else:\n",
    "                n_customers += 1\n",
    "        \n",
    "        # compute total number of rides\n",
    "        n_total = n_subscribers + n_customers\n",
    "        \n",
    "        # return tallies as a tuple\n",
    "        return(n_subscribers, n_customers, n_total)"
   ]
  },
  {
   "cell_type": "code",
   "execution_count": 18,
   "metadata": {},
   "outputs": [
    {
     "name": "stdout",
     "output_type": "stream",
     "text": [
      "            subscriber  customer  total_rides\n",
      "NYC             245896     30902       276798\n",
      "Chicago          54982     17149        72131\n",
      "Washington       51753     14573        66326\n",
      "\n",
      "MAX SUBSCRIBER(proportion):\n",
      "NYC\n",
      "MAX CUSTOMER(proportion:\n",
      "Chicago\n",
      "MAX TOTAL RIDES:\n",
      "NYC\n"
     ]
    }
   ],
   "source": [
    "## Modify this and the previous cell to answer Question 4a. Remember to run ##\n",
    "## the function on the cleaned data files you created from Question 3.      ##\n",
    "\n",
    "#data_file = './examples/BayArea-Y3-Summary.csv'\n",
    "#print(number_of_trips(data_file))\n",
    "\n",
    "## Answer for 4 b ##\n",
    "\n",
    "## Loading file names ##\n",
    "condensed_file_nyc_loc = './data/NYC-2016-Summary.csv'\n",
    "condensed_file_chicago_loc = './data/Chicago-2016-Summary.csv'\n",
    "condensed_file_washington_loc = './data/Washington-2016-Summary.csv'\n",
    "\n",
    "# Loading the number of Subscribers, Customers, Total num. of trips of each city\n",
    "#print(\"NYC:\")  \n",
    "nyc_subscriber , nyc_customer , nyc_total_rides = number_of_trips(condensed_file_nyc_loc)\n",
    "#print(number_of_trips(condensed_file_nyc_loc))\n",
    "\n",
    "#print(\"Chicago:\")  \n",
    "chicago_subscriber , chicago_customer , chicaago_total_rides = number_of_trips(condensed_file_chicago_loc)\n",
    "#print(number_of_trips(condensed_file_chicago_loc))\n",
    "\n",
    "#print(\"Washington:\")  \n",
    "washington_subscriber , washington_customer , washington_total_rides = number_of_trips(condensed_file_washington_loc)\n",
    "#print(number_of_trips(condensed_file_washington_loc),'\\n')\n",
    "\n",
    "# Creating a Pandas Dataframe for the above data of number of Subscribers, Customers, Total num. of trips of each city\n",
    "df_no_of_rides = pd.DataFrame(\n",
    "data = [ [nyc_subscriber , nyc_customer , nyc_total_rides],\n",
    "         [chicago_subscriber , chicago_customer , chicaago_total_rides],\n",
    "         [washington_subscriber, washington_customer, washington_total_rides]],\n",
    "index = ['NYC','Chicago','Washington'],\n",
    "columns = ['subscriber','customer','total_rides'])\n",
    "\n",
    "def get_proportion( x , tot):\n",
    "    '''\n",
    "    This function takes single column( as x ) and total number of trips( as tot ) as parameters, and find the ratio,\n",
    "    compare it by loading it in Numpy Array.\n",
    "    '''\n",
    "    nyc = x['NYC'] / tot['NYC']\n",
    "    chicago = x['Chicago'] / tot['Chicago']\n",
    "    washington = x['Washington'] / tot['Washington']\n",
    "    \n",
    "    proportion_list = np.array([nyc,chicago,washington])\n",
    "    if proportion_list.argmax() == 0:\n",
    "        return 'NYC'\n",
    "    elif proportion_list.argmax() == 1:\n",
    "        return 'Chicago'\n",
    "    elif proportion_list.argmax() == 2:\n",
    "        return 'Washington'\n",
    "    return proportion_list.max()\n",
    "\n",
    "## Printing the entire Dataframe\n",
    "\n",
    "\n",
    "\n",
    "print(df_no_of_rides)   \n",
    "\n",
    "print(\"\\nMAX SUBSCRIBER(proportion):\")  \n",
    "print(get_proportion ( df_no_of_rides['subscriber'] , df_no_of_rides['total_rides']))  \n",
    "print(\"MAX CUSTOMER(proportion:\")   \n",
    "print(get_proportion ( df_no_of_rides['customer'] , df_no_of_rides['total_rides']))   \n",
    "print(\"MAX TOTAL RIDES:\")  \n",
    "print(df_no_of_rides['total_rides'].argmax())  \n",
    "\n",
    "\n",
    "\n",
    "\n",
    "\n",
    "\n"
   ]
  },
  {
   "cell_type": "markdown",
   "metadata": {},
   "source": [
    "> **Tip**: In order to add additional cells to a notebook, you can use the \"Insert Cell Above\" and \"Insert Cell Below\" options from the menu bar above. There is also an icon in the toolbar for adding new cells, with additional icons for moving the cells up and down the document. By default, new cells are of the code type; you can also specify the cell type (e.g. Code or Markdown) of selected cells from the Cell menu or the dropdown in the toolbar.\n",
    "\n",
    "Now, you will write your own code to continue investigating properties of the data.\n",
    "\n",
    "**Question 4b**: Bike-share systems are designed for riders to take short trips. Most of the time, users are allowed to take trips of 30 minutes or less with no additional charges, with overage charges made for trips of longer than that duration. What is the average trip length for each city? What proportion of rides made in each city are longer than 30 minutes?\n",
    "\n",
    "**Answer**:\n",
    "\n",
    "NYC:\n",
    "Average Duration: 15.82 Percent: 7.31 %\n",
    "\n",
    "Chicago:\n",
    "Average Duration: 16.57 Percent: 8.34 %\n",
    "\n",
    "Washington:\n",
    "Average Duration: 14.22 Percent: 7.99 %"
   ]
  },
  {
   "cell_type": "code",
   "execution_count": 22,
   "metadata": {
    "scrolled": true
   },
   "outputs": [],
   "source": [
    "## Use this and additional cells to answer Question 4b.                 ##\n",
    "##                                                                      ##\n",
    "## HINT: The csv module reads in all of the data as strings, including  ##\n",
    "## numeric values. You will need a function to convert the strings      ##\n",
    "## into an appropriate numeric type before you aggregate data.          ##\n",
    "## TIP: For the Bay Area example, the average trip length is 14 minutes ##\n",
    "## and 3.5% of trips are longer than 30 minutes.                        ##\n",
    "\n",
    "\n",
    "def convert_datatypes_summary_data(data_list):\n",
    "    '''\n",
    "    This helper function takes in the list of data and coverts str to int/float and return the converted list\n",
    "    '''\n",
    "    for data in data_list:\n",
    "        data['duration'] = parse_float(data['duration'])\n",
    "        data['month'] = parse_int(data['month'])\n",
    "        data['hour'] = parse_int(data['hour'])\n",
    "    return data_list\n",
    "\n",
    "def calculate_duration_and_greater_than_30mins(data_list):\n",
    "    tot_duration = 0\n",
    "    num_of_trips = 0\n",
    "    duration_greater_than_30 = 0\n",
    "    \n",
    "    for data in data_list:\n",
    "        tot_duration = data['duration'] + tot_duration\n",
    "        num_of_trips = num_of_trips + 1\n",
    "        if data['duration'] >= 30:\n",
    "            duration_greater_than_30 = duration_greater_than_30 + 1\n",
    "\n",
    "    percent = ( duration_greater_than_30 * 100 ) / num_of_trips           \n",
    "    avg_duration = tot_duration / num_of_trips\n",
    "    \n",
    "    #print(\"Total Duration: \",tot_duration)\n",
    "    #print(\"Num of trips: \",num_of_trips)\n",
    "    #print('Greater than 30: ', duration_greater_than_30)\n",
    "    #print(\"Percent: \",percent)\n",
    "    \n",
    "    return (avg_duration , percent)\n",
    "\n",
    "summary_nyc = []\n",
    "summary_chicago = []\n",
    "summary_washington = []\n",
    "bay = []\n",
    "\n",
    "summary_nyc = query_data_from_csv(condensed_file_nyc_loc)\n",
    "summary_chicago = query_data_from_csv(condensed_file_chicago_loc)\n",
    "summary_washington = query_data_from_csv(condensed_file_washington_loc)\n",
    "bay = query_data_from_csv('./examples/BayArea-Y3-Summary.csv')\n",
    "        \n"
   ]
  },
  {
   "cell_type": "code",
   "execution_count": 23,
   "metadata": {},
   "outputs": [],
   "source": [
    "summary_nyc = convert_datatypes_summary_data(summary_nyc)\n",
    "summary_chicago = convert_datatypes_summary_data(summary_chicago)\n",
    "summary_washington = convert_datatypes_summary_data(summary_washington)\n",
    "bay = convert_datatypes_summary_data(bay)"
   ]
  },
  {
   "cell_type": "code",
   "execution_count": 26,
   "metadata": {},
   "outputs": [
    {
     "name": "stdout",
     "output_type": "stream",
     "text": [
      "NYC:\n",
      "Average Duration: 15.82 Percent: 7.31 %\n",
      "\n",
      "Chicago:\n",
      "Average Duration: 16.57 Percent: 8.34 %\n",
      "\n",
      "Washington:\n",
      "Average Duration: 14.22 Percent: 7.99 %\n",
      "\n"
     ]
    }
   ],
   "source": [
    "## Printing the Average Duration and percentage of trips having duration grater than 30 mins ##\n",
    "\n",
    "\n",
    "\n",
    "print(\"NYC:\")\n",
    "x , y = calculate_duration_and_greater_than_30mins(summary_nyc)\n",
    "print('Average Duration:',(math.ceil(x*100)/100) ,'Percent:',(math.ceil(y*100)/100), '%\\n' )\n",
    "\n",
    "print(\"Chicago:\")\n",
    "x , y = calculate_duration_and_greater_than_30mins(summary_chicago)\n",
    "print('Average Duration:',(math.ceil(x*100)/100) ,'Percent:',(math.ceil(y*100)/100), '%\\n' )\n",
    "\n",
    "print(\"Washington:\")\n",
    "x , y = calculate_duration_and_greater_than_30mins(summary_washington)\n",
    "print('Average Duration:',(math.ceil(x*100)/100) ,'Percent:',(math.ceil(y*100)/100), '%\\n' )\n",
    "\n"
   ]
  },
  {
   "cell_type": "markdown",
   "metadata": {},
   "source": [
    "**Question 4c**: Dig deeper into the question of trip duration based on ridership. Choose one city. Within that city, which type of user takes longer rides on average: Subscribers or Customers?\n",
    "\n",
    "**Answer**:\n",
    "\n",
    "<b>NYC:</b>\n",
    "\n",
    "Average Subscriber trip duration: 13.69 mins\n",
    "\n",
    "Average Customer trip duration: 32.78 mins"
   ]
  },
  {
   "cell_type": "code",
   "execution_count": 27,
   "metadata": {},
   "outputs": [
    {
     "name": "stdout",
     "output_type": "stream",
     "text": [
      "NYC:\n",
      "Average Subscriber trip duration: 13.69 mins\n",
      "\n",
      "Average Customer trip duration: 32.78 mins\n"
     ]
    }
   ],
   "source": [
    "## Use this and additional cells to answer Question 4c. If you have    ##\n",
    "## not done so yet, consider revising some of your previous code to    ##\n",
    "## make use of functions for reusability.                              ##\n",
    "##                                                                     ##\n",
    "## TIP: For the Bay Area example data, you should find the average     ##\n",
    "## Subscriber trip duration to be 9.5 minutes and the average Customer ##\n",
    "## trip duration to be 54.6 minutes. Do the other cities have this     ##\n",
    "## level of difference?                                                ##\n",
    "\n",
    "## Here I am going to calculate the average duration for Subscriber and Customer of NYC\n",
    "def calculate_avg_duration_for_subscriber_and_customer(data_list):\n",
    "    subs = subs_num = cust = cust_num = tot = 0\n",
    "    \n",
    "    for data in data_list:\n",
    "        if data['user_type'] == 'Subscriber':\n",
    "            subs = data['duration'] + subs\n",
    "            subs_num = subs_num + 1\n",
    "        else:\n",
    "            cust = data['duration'] + cust\n",
    "            cust_num = cust_num + 1\n",
    "    return (subs/subs_num , cust/cust_num)\n",
    "\n",
    "nyc_avg_duration_subs , nyc_avg_duration_cust = calculate_avg_duration_for_subscriber_and_customer(summary_nyc)\n",
    "print(\"NYC:\\nAverage Subscriber trip duration:\",math.ceil(nyc_avg_duration_subs*100)/100,'mins') \n",
    "print('\\nAverage Customer trip duration:',math.ceil(nyc_avg_duration_cust*100)/100,'mins')  "
   ]
  },
  {
   "cell_type": "markdown",
   "metadata": {},
   "source": [
    "<a id='visualizations'></a>\n",
    "### Visualizations\n",
    "\n",
    "The last set of values that you computed should have pulled up an interesting result. While the mean trip time for Subscribers is well under 30 minutes, the mean trip time for Customers is actually _above_ 30 minutes! It will be interesting for us to look at how the trip times are distributed. In order to do this, a new library will be introduced here, `matplotlib`. Run the cell below to load the library and to generate an example plot."
   ]
  },
  {
   "cell_type": "code",
   "execution_count": 28,
   "metadata": {},
   "outputs": [
    {
     "data": {
      "image/png": "[encoded data removed]",
      "text/plain": [
       "<matplotlib.figure.Figure at 0x7f1879863438>"
      ]
     },
     "metadata": {},
     "output_type": "display_data"
    }
   ],
   "source": [
    "# load library\n",
    "import matplotlib.pyplot as plt\n",
    "\n",
    "# this is a 'magic word' that allows for plots to be displayed\n",
    "# inline with the notebook. If you want to know more, see:\n",
    "# http://ipython.readthedocs.io/en/stable/interactive/magics.html\n",
    "%matplotlib inline \n",
    "\n",
    "# example histogram, data taken from bay area sample\n",
    "data = [ 7.65,  8.92,  7.42,  5.50, 16.17,  4.20,  8.98,  9.62, 11.48, 14.33,\n",
    "        19.02, 21.53,  3.90,  7.97,  2.62,  2.67,  3.08, 14.40, 12.90,  7.83,\n",
    "        25.12,  8.30,  4.93, 12.43, 10.60,  6.17, 10.88,  4.78, 15.15,  3.53,\n",
    "         9.43, 13.32, 11.72,  9.85,  5.22, 15.10,  3.95,  3.17,  8.78,  1.88,\n",
    "         4.55, 12.68, 12.38,  9.78,  7.63,  6.45, 17.38, 11.90, 11.52,  8.63,]\n",
    "plt.hist(data )\n",
    "plt.title('Distribution of Trip Durations')\n",
    "plt.xlabel('Duration (m)')\n",
    "plt.show()"
   ]
  },
  {
   "cell_type": "markdown",
   "metadata": {},
   "source": [
    "In the above cell, we collected fifty trip times in a list, and passed this list as the first argument to the `.hist()` function. This function performs the computations and creates plotting objects for generating a histogram, but the plot is actually not rendered until the `.show()` function is executed. The `.title()` and `.xlabel()` functions provide some labeling for plot context.\n",
    "\n",
    "You will now use these functions to create a histogram of the trip times for the city you selected in question 4c. Don't separate the Subscribers and Customers for now: just collect all of the trip times and plot them."
   ]
  },
  {
   "cell_type": "code",
   "execution_count": 29,
   "metadata": {},
   "outputs": [
    {
     "data": {
      "image/png": "[encoded data removed]",
      "text/plain": [
       "<matplotlib.figure.Figure at 0x7f1879875128>"
      ]
     },
     "metadata": {},
     "output_type": "display_data"
    }
   ],
   "source": [
    "## Use this and additional cells to collect all of the trip times as a list ##\n",
    "## and then use pyplot functions to generate a histogram of trip times.     ##\n",
    "nyc_time = []\n",
    "for data in summary_nyc:\n",
    "    nyc_time.append(data['duration'])\n",
    "\n",
    "plt.hist(nyc_time, range=[min(nyc_time), max(nyc_time)]  )\n",
    "plt.title('Distribution of Trip Durations for NYC')\n",
    "plt.xlabel('Duration (m)')\n",
    "plt.show()"
   ]
  },
  {
   "cell_type": "markdown",
   "metadata": {},
   "source": [
    "If you followed the use of the `.hist()` and `.show()` functions exactly like in the example, you're probably looking at a plot that's completely unexpected. The plot consists of one extremely tall bar on the left, maybe a very short second bar, and a whole lot of empty space in the center and right. Take a look at the duration values on the x-axis. This suggests that there are some highly infrequent outliers in the data. Instead of reprocessing the data, you will use additional parameters with the `.hist()` function to limit the range of data that is plotted. Documentation for the function can be found [[here]](https://matplotlib.org/devdocs/api/_as_gen/matplotlib.pyplot.hist.html#matplotlib.pyplot.hist).\n",
    "\n",
    "**Question 5**: Use the parameters of the `.hist()` function to plot the distribution of trip times for the Subscribers in your selected city. Do the same thing for only the Customers. Add limits to the plots so that only trips of duration less than 75 minutes are plotted. As a bonus, set the plots up so that bars are in five-minute wide intervals. For each group, where is the peak of each distribution? How would you describe the shape of each distribution?\n",
    "\n",
    "**Answer**:\n",
    "\n",
    "We could see the peak for subscribers in 5 to 10 minutes and for the customers in 20 to 25 minutes.<br>\n",
    "\n",
    "From the graph of subscribers we could say that they use this service only for shorter duration, may be regularly they might be using for their day-to-day activites, may for nearby office, school etc.<br>\n",
    "\n",
    "From the graph of Customers we could say that they use this service for longer duration than the subscribed users.<br>\n",
    "\n",
    "Although it seems to be that customers are the large users, but actually subscribers are so, we could say that from the markings in Y-axis. Although Subscribers use the service for shorter duration they are in maximum number."
   ]
  },
  {
   "cell_type": "code",
   "execution_count": 34,
   "metadata": {},
   "outputs": [
    {
     "data": {
      "image/png": "[encoded data removed]",
      "text/plain": [
       "<matplotlib.figure.Figure at 0x7f187a470208>"
      ]
     },
     "metadata": {},
     "output_type": "display_data"
    }
   ],
   "source": [
    "## Use this and additional cells to answer Question 5. ##\n",
    "nyc_time_subs = []\n",
    "for data in summary_nyc:\n",
    "    if data['user_type'] == 'Subscriber':\n",
    "        if data['duration'] < 75:\n",
    "            nyc_time_subs.append(data['duration'])\n",
    "            \n",
    "\n",
    "plt.hist(nyc_time_subs, range=[0 , 75] , bins = 15)\n",
    "plt.title('Distribution of Trip Durations for NYC-Subscribers')\n",
    "plt.xlabel('Duration (m)')\n",
    "plt.show()   "
   ]
  },
  {
   "cell_type": "code",
   "execution_count": 35,
   "metadata": {},
   "outputs": [
    {
     "data": {
      "image/png": "[encoded data removed]",
      "text/plain": [
       "<matplotlib.figure.Figure at 0x7f187a402eb8>"
      ]
     },
     "metadata": {},
     "output_type": "display_data"
    }
   ],
   "source": [
    "\n",
    "nyc_time_cust = []\n",
    "for data in summary_nyc:\n",
    "    if data['user_type'] == 'Customer':\n",
    "        if data['duration'] < 75:\n",
    "            nyc_time_cust.append(data['duration'])\n",
    "            \n",
    "\n",
    "plt.hist(nyc_time_cust, range=[0 , 75] , bins = 15)\n",
    "plt.title('Distribution of Trip Durations for NYC-Customers')\n",
    "plt.xlabel('Duration (m)')\n",
    "plt.show()   "
   ]
  },
  {
   "cell_type": "markdown",
   "metadata": {},
   "source": [
    "<a id='eda_continued'></a>\n",
    "## Performing Your Own Analysis\n",
    "\n",
    "So far, you've performed an initial exploration into the data available. You have compared the relative volume of trips made between three U.S. cities and the ratio of trips made by Subscribers and Customers. For one of these cities, you have investigated differences between Subscribers and Customers in terms of how long a typical trip lasts. Now it is your turn to continue the exploration in a direction that you choose. Here are a few suggestions for questions to explore:\n",
    "\n",
    "- How does ridership differ by month or season? Which month / season has the highest ridership? Does the ratio of Subscriber trips to Customer trips change depending on the month or season?\n",
    "- Is the pattern of ridership different on the weekends versus weekdays? On what days are Subscribers most likely to use the system? What about Customers? Does the average duration of rides change depending on the day of the week?\n",
    "- During what time of day is the system used the most? Is there a difference in usage patterns for Subscribers and Customers?\n",
    "\n",
    "If any of the questions you posed in your answer to question 1 align with the bullet points above, this is a good opportunity to investigate one of them. As part of your investigation, you will need to create a visualization. If you want to create something other than a histogram, then you might want to consult the [Pyplot documentation](https://matplotlib.org/devdocs/api/pyplot_summary.html). In particular, if you are plotting values across a categorical variable (e.g. city, user type), a bar chart will be useful. The [documentation page for `.bar()`](https://matplotlib.org/devdocs/api/_as_gen/matplotlib.pyplot.bar.html#matplotlib.pyplot.bar) includes links at the bottom of the page with examples for you to build off of for your own use.\n",
    "\n",
    "**Question 6**: Continue the investigation by exploring another question that could be answered by the data available. Document the question you want to explore below. Your investigation should involve at least two variables and should compare at least two groups. You should also use at least one visualization as part of your explorations.\n",
    "\n",
    "**Answer**: <br>\n",
    "\n",
    "<b>For viewing this answer clearly please look this cell in editing mode, because I have included table like content</b>\n",
    "\n",
    "\n",
    "<b>Number of week-days, week-end users</b><br>\n",
    "                weekdays user  weekend users<br>\n",
    "NYC                212093          64705<br>\n",
    "Chicago             52550          19581<br>\n",
    "Washington          49199          17127<br>\n",
    "<br>\n",
    "<b>For Week Days users</b><br>\n",
    "               Subscriber(%)  Customer(%)<br>\n",
    "NYC             92.089791     7.910209<br>\n",
    "Chicago         83.604186    16.395814<br>\n",
    "Washington      83.156162    16.843838<br>\n",
    "<br>\n",
    "<b>For Week End users</b><br>\n",
    "            Subscriber(%)  Customer(%)<br>\n",
    "NYC             78.170157    21.829843<br>\n",
    "Chicago         56.422042    43.577958<br>\n",
    "Washington      63.297717    36.702283<br>\n",
    "<br>\n",
    "We could see highest WeekDay Subscriber Riders in  NYC and WeekDay Customer Riders in  Washington.<br>\n",
    "We could see highest WeekEnd Subscriber Riders in  NYC and WeekEnd Customer Riders in  Chicago.<br>\n",
    "\n",
    "\n",
    "<img src='Untitled Folder/week_days_subs.png'> </img>\n",
    "<img src='Untitled Folder/week_days_cust.png'> </img>\n",
    "<img src='Untitled Folder/week_end_subs.png'> </img>\n",
    "<img src='Untitled Folder/week_end_cust.png'> </img>\n",
    "\n",
    "<i>You could find the graphs in the below cells also</i>"
   ]
  },
  {
   "cell_type": "markdown",
   "metadata": {},
   "source": [
    "# Question\n",
    "* How many weekdays and weekend riders are in each city? In which how many percent are Subscribers and how many percent are Customers?\n",
    "* In each city who is the highest number of weekdays user and the highest number of weekend users?\n",
    "* Which city has highest number of Subscriber and Customer in weekdays and same in weekend?\n",
    "* Plot the graph for weekdays and weekend users of anyone city."
   ]
  },
  {
   "cell_type": "code",
   "execution_count": 36,
   "metadata": {},
   "outputs": [],
   "source": [
    "## Use this and additional cells to continue to explore the dataset. ##\n",
    "## Once you have performed your exploration, document your findings  ##\n",
    "## in the Markdown cell above. \n",
    "\n",
    "\n",
    "\n",
    "\n",
    "# HELPER FUNCTIONS #\n",
    "\n",
    "## Grouping weekdays and weekend riders\n",
    "def group_weekdays_and_weekend_riders(data_list):\n",
    "    '''\n",
    "    This helper function takes the list of data containing condensed data of each city, loop over it and seperate\n",
    "    its week-days riders and week-end riders and returns the lists of week-days riders and week-end riders.\n",
    "    '''\n",
    "    weekdays_riders = []\n",
    "    weekend_riders = []\n",
    "    for data in data_list:\n",
    "        if data['day_of_week'] == 'Saturday' or data['day_of_week']  == 'Sunday':\n",
    "            weekend_riders.append(data)\n",
    "        else:\n",
    "            weekdays_riders.append(data)\n",
    "    return (weekdays_riders,weekend_riders)\n",
    "\n",
    "## Find percent of Subscribers and Customers\n",
    "def find_percent_of_subscribers_and_customers(data_list):\n",
    "    '''\n",
    "    This helper function takes the lists of data and loops over it to check the percent of Subscribers and Customers in it.\n",
    "    '''\n",
    "    subs = 0\n",
    "    cust = 0\n",
    "    tot = 0\n",
    "    for data in data_list:\n",
    "        tot = tot + 1\n",
    "        if data['user_type'] == 'Subscriber':\n",
    "            subs = subs + 1\n",
    "        else:\n",
    "            cust = cust + 1\n",
    "    return ((subs/tot)*100 , (cust/tot)*100)\n",
    "    \n",
    "## Find the highest percent of Subscribers and Customers\n",
    "def find_the_highest_percent_Subscriber_and_Customer(df):\n",
    "    '''\n",
    "    This helper function takes in a DataFrame as a parameter and returns the argument of each column. Here Subscriber(%)\n",
    "    and Customer(%).\n",
    "    '''\n",
    "    return (df['Subscriber(%)'].argmax() , df['Customer(%)'].argmax())\n",
    "\n",
    "## Function to convert number denoted month into string denoted month\n",
    "def get_month(i):\n",
    "    if i == 1:\n",
    "        return 'Jan'\n",
    "    elif i == 2:\n",
    "        return 'Feb'\n",
    "    elif i == 3:\n",
    "        return 'Mar'\n",
    "    elif i == 4:\n",
    "        return 'Apr'\n",
    "    elif i == 5:\n",
    "        return 'May'\n",
    "    elif i == 6:\n",
    "        return 'Jun'\n",
    "    elif i == 7:\n",
    "        return 'Jul'\n",
    "    elif i == 8:\n",
    "        return 'Aug'\n",
    "    elif i == 9:\n",
    "        return 'Sep'\n",
    "    elif i == 10:\n",
    "        return 'Oct'\n",
    "    elif i == 11:\n",
    "        return 'Nov'\n",
    "    elif i == 12:\n",
    "        return 'Dec'\n",
    "    return 'non'\n",
    "    \n",
    "## Find monthly active Subscribers and Customers    \n",
    "def find_monthly_active_users(data_list):\n",
    "    '''\n",
    "    This helper function loops over the list of data and finds the number of users each month for Subscribers\n",
    "    and Customers seperately and return the list subs and cust\n",
    "    '''\n",
    "    subs = {}\n",
    "    cust = {}\n",
    "    for data in data_list:\n",
    "        index = get_month(data['month'])\n",
    "        if data['user_type'] == 'Subscriber':    \n",
    "            if subs.get(index):\n",
    "                subs[index] = subs[index] + 1\n",
    "            else:\n",
    "                subs[index] = 1\n",
    "        else:\n",
    "            if cust.get(index):\n",
    "                cust[index] = cust[index] + 1\n",
    "            else:\n",
    "                cust[index] = 1\n",
    "    return (subs,cust)\n",
    "\n"
   ]
  },
  {
   "cell_type": "code",
   "execution_count": 37,
   "metadata": {},
   "outputs": [
    {
     "name": "stdout",
     "output_type": "stream",
     "text": [
      "            weekdays user  weekend users\n",
      "NYC                212093          64705\n",
      "Chicago             52550          19581\n",
      "Washington          49199          17127\n"
     ]
    }
   ],
   "source": [
    "##  Here we call the group_weekdays_and_weekend_riders(data_list) function and load number of week-days riders \n",
    "#     and week-end riders for each city into respective variables.\n",
    "nyc_weekdays_riders , nyc_weekend_riders = group_weekdays_and_weekend_riders(summary_nyc)\n",
    "chicago_weekdays_riders , chicago_weekend_riders = group_weekdays_and_weekend_riders(summary_chicago)\n",
    "washington_weekdays_riders , washington_weekend_riders = group_weekdays_and_weekend_riders(summary_washington)\n",
    "\n",
    "\n",
    "\n",
    "## Here we load the above data into DataFrame and print it for simplicity.\n",
    "df_number_of_weekdays_weekend_users = pd.DataFrame(\n",
    "data = [ [len(nyc_weekdays_riders) , len(nyc_weekend_riders)],\n",
    "         [len(chicago_weekdays_riders) , len(chicago_weekend_riders)],\n",
    "         [len(washington_weekdays_riders), len(washington_weekend_riders)]],\n",
    "index = ['NYC','Chicago','Washington'],\n",
    "columns = ['weekdays user','weekend users'])\n",
    "\n",
    "pprint(df_number_of_weekdays_weekend_users) "
   ]
  },
  {
   "cell_type": "code",
   "execution_count": 38,
   "metadata": {},
   "outputs": [],
   "source": [
    "##  Here we call the function find_percent_of_subscribers_and_customers(data_list) and \n",
    "#   load percentage of Subscribers and Customers for week-days riders for each city into respective variables.    \n",
    "nyc_weekdays_riders_subscribers , nyc_weekdays_riders_customers = find_percent_of_subscribers_and_customers(nyc_weekdays_riders)\n",
    "chicago_weekdays_riders_subscribers , chicago_weekdays_riders_customers = find_percent_of_subscribers_and_customers(chicago_weekdays_riders)\n",
    "washington_weekdays_riders_subscribers , washington_weekdays_riders_customers = find_percent_of_subscribers_and_customers(washington_weekdays_riders)\n",
    "\n",
    "\n",
    "##  Here we call the function find_percent_of_subscribers_and_customers(data_list) and \n",
    "#   load percentage of Subscribers and Customers for week-end riders for each city into respective variables.\n",
    "nyc_weekend_riders_subscribers , nyc_weekend_riders_customers = find_percent_of_subscribers_and_customers(nyc_weekend_riders)\n",
    "chicago_weekend_riders_subscribers , chicago_weekend_riders_customers = find_percent_of_subscribers_and_customers(chicago_weekend_riders)\n",
    "washington_weekend_riders_subscribers , washington_weekend_riders_customers = find_percent_of_subscribers_and_customers(washington_weekend_riders)\n"
   ]
  },
  {
   "cell_type": "code",
   "execution_count": 39,
   "metadata": {},
   "outputs": [
    {
     "name": "stdout",
     "output_type": "stream",
     "text": [
      "\n",
      "WeekDay Riders:\n",
      "            Subscriber(%)  Customer(%)\n",
      "NYC             92.089791     7.910209\n",
      "Chicago         83.604186    16.395814\n",
      "Washington      83.156162    16.843838\n"
     ]
    }
   ],
   "source": [
    "## printing weekday riders percentage of Subscriberes and Customers\n",
    "\n",
    "print('\\nWeekDay Riders:')   \n",
    "\n",
    "df_number_of_weekdays_users = pd.DataFrame(\n",
    "data = [ [ nyc_weekdays_riders_subscribers , nyc_weekdays_riders_customers],\n",
    "         [ chicago_weekdays_riders_subscribers , chicago_weekdays_riders_customers ],\n",
    "         [washington_weekdays_riders_subscribers , washington_weekdays_riders_customers]],\n",
    "index = ['NYC','Chicago','Washington'],\n",
    "columns = ['Subscriber(%)','Customer(%)'])\n",
    "\n",
    "pprint(df_number_of_weekdays_users) "
   ]
  },
  {
   "cell_type": "code",
   "execution_count": 40,
   "metadata": {},
   "outputs": [
    {
     "name": "stdout",
     "output_type": "stream",
     "text": [
      "\n",
      "WeekEnd Riders:\n",
      "            Subscriber(%)  Customer(%)\n",
      "NYC             78.170157    21.829843\n",
      "Chicago         56.422042    43.577958\n",
      "Washington      63.297717    36.702283\n"
     ]
    }
   ],
   "source": [
    "## printing weekend riders percentage of Subscriberes and Customers\n",
    "\n",
    "print('\\nWeekEnd Riders:')  \n",
    "\n",
    "df_number_of_weekend_users = pd.DataFrame(\n",
    "data = [ [ nyc_weekend_riders_subscribers , nyc_weekend_riders_customers],\n",
    "         [ chicago_weekend_riders_subscribers , chicago_weekend_riders_customers ],\n",
    "         [washington_weekend_riders_subscribers , washington_weekend_riders_customers]],\n",
    "index = ['NYC','Chicago','Washington'],\n",
    "columns = ['Subscriber(%)','Customer(%)'])\n",
    "\n",
    "pprint(df_number_of_weekend_users)  "
   ]
  },
  {
   "cell_type": "code",
   "execution_count": 41,
   "metadata": {},
   "outputs": [
    {
     "name": "stdout",
     "output_type": "stream",
     "text": [
      "We could see highest WeekDay Subscriber Riders in  NYC and WeekDay Customer Riders in  Washington\n",
      "We could see highest WeekEnd Subscriber Riders in  NYC and WeekEnd Customer Riders in  Chicago\n"
     ]
    }
   ],
   "source": [
    "## Here we find which city has the highest percentage of Subscriber and Customer by calling the function\n",
    "# find_the_highest_percent_Subscriber_and_Customer()\n",
    "\n",
    "subs,cust = find_the_highest_percent_Subscriber_and_Customer(df_number_of_weekdays_users)\n",
    "weekday_riders_highest_percent_Subs_And_Cust = [subs,cust]\n",
    "\n",
    "subs,cust = find_the_highest_percent_Subscriber_and_Customer(df_number_of_weekend_users)\n",
    "weekend_riders_highest_percent_Subs_And_Cust = [subs,cust]\n",
    "print('We could see highest WeekDay Subscriber Riders in ',weekday_riders_highest_percent_Subs_And_Cust[0],\n",
    "     'and WeekDay Customer Riders in ',weekday_riders_highest_percent_Subs_And_Cust[1])\n",
    "\n",
    "print('We could see highest WeekEnd Subscriber Riders in ',weekend_riders_highest_percent_Subs_And_Cust[0],\n",
    "     'and WeekEnd Customer Riders in ',weekend_riders_highest_percent_Subs_And_Cust[1])"
   ]
  },
  {
   "cell_type": "code",
   "execution_count": 42,
   "metadata": {},
   "outputs": [],
   "source": [
    "\n",
    "## Here we call the function find_monthly_active_users(data_list) to \n",
    "#     load the number of active users in weekdays-Subscribers\n",
    "monthy_active_riders_weekdays_subs_nyc , monthy_active_riders_weekdays_cust_nyc = find_monthly_active_users(nyc_weekdays_riders)\n",
    "monthy_active_riders_weekdays_subs_chicago , monthy_active_riders_weekdays_cust_chicago = find_monthly_active_users(chicago_weekdays_riders)\n",
    "monthy_active_riders_weekdays_subs_washington , monthy_active_riders_weekdays_cust_washington = find_monthly_active_users(washington_weekdays_riders)\n"
   ]
  },
  {
   "cell_type": "code",
   "execution_count": 43,
   "metadata": {},
   "outputs": [
    {
     "data": {
      "image/png": "[encoded data removed]",
      "text/plain": [
       "<matplotlib.figure.Figure at 0x7f187a543f98>"
      ]
     },
     "metadata": {},
     "output_type": "display_data"
    }
   ],
   "source": [
    "## Plotting for Weekdays-Subscribers\n",
    "plt.plot(range(len(monthy_active_riders_weekdays_subs_nyc)), \n",
    "            list(monthy_active_riders_weekdays_subs_nyc.values()))\n",
    "plt.xticks(range(len(monthy_active_riders_weekdays_subs_nyc)), \n",
    "            list(monthy_active_riders_weekdays_subs_nyc.keys()))\n",
    "\n",
    "plt.plot(range(len(monthy_active_riders_weekdays_subs_chicago)),\n",
    "             list(monthy_active_riders_weekdays_subs_chicago.values()))\n",
    "plt.xticks(range(len(monthy_active_riders_weekdays_subs_chicago)),\n",
    "            list(monthy_active_riders_weekdays_subs_chicago.keys()))\n",
    "\n",
    "\n",
    "plt.plot(range(len(monthy_active_riders_weekdays_subs_washington)),\n",
    "             list(monthy_active_riders_weekdays_subs_washington.values()))\n",
    "plt.xticks(range(len(monthy_active_riders_weekdays_subs_washington)),\n",
    "             list(monthy_active_riders_weekdays_subs_washington.keys()))\n",
    "\n",
    "\n",
    "plt.legend(('NYC', 'Chicago', 'Washington'),\n",
    "           loc='upper left', shadow=True)\n",
    "\n",
    "plt.title('Monthly Active Users for WeekDays-Subscribers')\n",
    "plt.xlabel('Month')\n",
    "plt.ylabel('No. of users')\n",
    "plt.show()\n",
    "\n",
    " "
   ]
  },
  {
   "cell_type": "code",
   "execution_count": 44,
   "metadata": {},
   "outputs": [
    {
     "data": {
      "image/png": "[encoded data removed]",
      "text/plain": [
       "<matplotlib.figure.Figure at 0x7f187a5c0eb8>"
      ]
     },
     "metadata": {},
     "output_type": "display_data"
    }
   ],
   "source": [
    "## Plotting for Weekdays-Customers\n",
    "\n",
    "plt.plot(range(len(monthy_active_riders_weekdays_cust_nyc)), \n",
    "            list(monthy_active_riders_weekdays_cust_nyc.values()))\n",
    "plt.xticks(range(len(monthy_active_riders_weekdays_cust_nyc)), \n",
    "            list(monthy_active_riders_weekdays_cust_nyc.keys()))\n",
    "\n",
    "plt.plot(range(len(monthy_active_riders_weekdays_cust_chicago)),\n",
    "             list(monthy_active_riders_weekdays_cust_chicago.values()))\n",
    "plt.xticks(range(len(monthy_active_riders_weekdays_cust_chicago)),\n",
    "            list(monthy_active_riders_weekdays_cust_chicago.keys()))\n",
    "\n",
    "\n",
    "plt.plot(range(len(monthy_active_riders_weekdays_cust_washington)),\n",
    "             list(monthy_active_riders_weekdays_cust_washington.values()))\n",
    "plt.xticks(range(len(monthy_active_riders_weekdays_cust_washington)),\n",
    "             list(monthy_active_riders_weekdays_cust_washington.keys()))\n",
    "\n",
    "\n",
    "plt.legend(('NYC', 'Chicago', 'Washington'),\n",
    "           loc='upper left', shadow=True)\n",
    "\n",
    "plt.title('Monthly Active Users for WeekDays-Customers')\n",
    "plt.xlabel('Month')\n",
    "plt.ylabel('No. of users')\n",
    "plt.show()"
   ]
  },
  {
   "cell_type": "code",
   "execution_count": 45,
   "metadata": {},
   "outputs": [],
   "source": [
    "## Here we call the function find_monthly_active_users(data_list) to load the number of active users in weekend-Subscribers\n",
    "monthy_active_riders_weekEnd_subs_nyc , monthy_active_riders_weekEnd_cust_nyc = find_monthly_active_users(nyc_weekend_riders)\n",
    "monthy_active_riders_weekEnd_subs_chicago , monthy_active_riders_weekEnd_cust_chicago = find_monthly_active_users(chicago_weekend_riders)\n",
    "monthy_active_riders_weekEnd_subs_washington , monthy_active_riders_weekEnd_cust_washington = find_monthly_active_users(washington_weekend_riders)\n"
   ]
  },
  {
   "cell_type": "code",
   "execution_count": 46,
   "metadata": {},
   "outputs": [
    {
     "data": {
      "image/png": "[encoded data removed]",
      "text/plain": [
       "<matplotlib.figure.Figure at 0x7f187a63e2e8>"
      ]
     },
     "metadata": {},
     "output_type": "display_data"
    }
   ],
   "source": [
    "## Plotting for WeekEnd-Subscribers\n",
    "plt.plot(range(len(monthy_active_riders_weekEnd_subs_nyc)), \n",
    "            list(monthy_active_riders_weekEnd_subs_nyc.values()))\n",
    "plt.xticks(range(len(monthy_active_riders_weekEnd_subs_nyc)), \n",
    "            list(monthy_active_riders_weekEnd_subs_nyc.keys()))\n",
    "\n",
    "plt.plot(range(len(monthy_active_riders_weekEnd_subs_chicago)),\n",
    "             list(monthy_active_riders_weekEnd_subs_chicago.values()))\n",
    "plt.xticks(range(len(monthy_active_riders_weekEnd_subs_chicago)),\n",
    "            list(monthy_active_riders_weekEnd_subs_chicago.keys()))\n",
    "\n",
    "\n",
    "plt.plot(range(len(monthy_active_riders_weekEnd_subs_washington)),\n",
    "             list(monthy_active_riders_weekEnd_subs_washington.values()))\n",
    "plt.xticks(range(len(monthy_active_riders_weekEnd_subs_washington)),\n",
    "             list(monthy_active_riders_weekEnd_subs_washington.keys()))\n",
    "\n",
    "\n",
    "plt.legend(('NYC', 'Chicago', 'Washington'),\n",
    "           loc='upper left', shadow=True)\n",
    "\n",
    "plt.title('Monthly Active Users for WeekEnd-Subscribers')\n",
    "plt.xlabel('Month')\n",
    "plt.ylabel('No. of users')\n",
    "plt.show()\n",
    "\n"
   ]
  },
  {
   "cell_type": "code",
   "execution_count": 47,
   "metadata": {},
   "outputs": [
    {
     "data": {
      "image/png": "[encoded data removed]",
      "text/plain": [
       "<matplotlib.figure.Figure at 0x7f187a6ed940>"
      ]
     },
     "metadata": {},
     "output_type": "display_data"
    }
   ],
   "source": [
    "## Plotting for Weekend-Customers\n",
    "\n",
    "plt.plot(range(len(monthy_active_riders_weekEnd_cust_nyc)), \n",
    "            list(monthy_active_riders_weekEnd_cust_nyc.values()))\n",
    "plt.xticks(range(len(monthy_active_riders_weekEnd_cust_nyc)), \n",
    "            list(monthy_active_riders_weekEnd_cust_nyc.keys()))\n",
    "\n",
    "plt.plot(range(len(monthy_active_riders_weekEnd_cust_chicago)),\n",
    "             list(monthy_active_riders_weekEnd_cust_chicago.values()))\n",
    "plt.xticks(range(len(monthy_active_riders_weekEnd_cust_chicago)),\n",
    "            list(monthy_active_riders_weekEnd_cust_chicago.keys()))\n",
    "\n",
    "\n",
    "plt.plot(range(len(monthy_active_riders_weekEnd_cust_washington)),\n",
    "             list(monthy_active_riders_weekEnd_cust_washington.values()))\n",
    "plt.xticks(range(len(monthy_active_riders_weekEnd_cust_washington)),\n",
    "             list(monthy_active_riders_weekEnd_cust_washington.keys()))\n",
    "\n",
    "\n",
    "plt.legend(('NYC', 'Chicago', 'Washington'),\n",
    "           loc='upper left', shadow=True)\n",
    "\n",
    "plt.title('Monthly Active Users for WeekEnd-Customers')\n",
    "plt.xlabel('Month')\n",
    "plt.ylabel('No. of users')\n",
    "plt.show()"
   ]
  },
  {
   "cell_type": "markdown",
   "metadata": {},
   "source": [
    "<a id='conclusions'></a>\n",
    "## Conclusions\n",
    "\n",
    "Congratulations on completing the project! This is only a sampling of the data analysis process: from generating questions, wrangling the data, and to exploring the data. Normally, at this point in the data analysis process, you might want to draw conclusions about the data by performing a statistical test or fitting the data to a model for making predictions. There are also a lot of potential analyses that could be performed on the data which are not possible with only the data provided. For example, detailed location data has not been investigated. Where are the most commonly used docks? What are the most common routes? As another example, weather has potential to have a large impact on daily ridership. How much is ridership impacted when there is rain or snow? Are subscribers or customers affected more by changes in weather?\n",
    "\n",
    "**Question 7**: Putting the bike share data aside, think of a topic or field of interest where you would like to be able to apply the techniques of data science. What would you like to be able to learn from your chosen subject?\n",
    "\n",
    "**Answer**: \n",
    "\n",
    "I would like to take the topic **Bio Medical Compounds data**. We can collect the datas of successful medicines. We can process the type of medicine and its compounds, try to sort out compound characteristics and store that data to find the possible compounds for any new drugs. This type of data analysis makes the work of finding out possible compounds for any new drugs easy for the chemists. This also provides any other possibility which is not predictable by us.\n",
    "\n",
    "> **Tip**: If we want to share the results of our analysis with others, we aren't limited to giving them a copy of the jupyter Notebook (.ipynb) file. We can also export the Notebook output in a form that can be opened even for those without Python installed. From the **File** menu in the upper left, go to the **Download as** submenu. You can then choose a different format that can be viewed more generally, such as HTML (.html) or\n",
    "PDF (.pdf). You may need additional packages or software to perform these exports.\n",
    "\n",
    "> If you are working on this project via the Project Notebook page in the classroom, you can also submit this project directly from the workspace. **Before you do that**, you should save an HTML copy of the completed project to the workspace by running the code cell below. If it worked correctly, the output code should be a 0, and if you click on the jupyter icon in the upper left, you should see your .html document in the workspace directory. Alternatively, you can download the .html copy of your report following the steps in the previous paragraph, then _upload_ the report to the directory (by clicking the jupyter icon).\n",
    "\n",
    "> Either way, once you've gotten the .html report in your workspace, you can complete your submission by clicking on the \"Submit Project\" button to the lower-right hand side of the workspace."
   ]
  },
  {
   "cell_type": "code",
   "execution_count": 52,
   "metadata": {},
   "outputs": [
    {
     "data": {
      "text/plain": [
       "0"
      ]
     },
     "execution_count": 52,
     "metadata": {},
     "output_type": "execute_result"
    }
   ],
   "source": [
    "from subprocess import call\n",
    "call(['python', '-m', 'nbconvert', 'Bike_Share_Analysis.ipynb'])"
   ]
  }
 ],
 "metadata": {
  "anaconda-cloud": {},
  "kernelspec": {
   "display_name": "Python 3",
   "language": "python",
   "name": "python3"
  },
  "language_info": {
   "codemirror_mode": {
    "name": "ipython",
    "version": 3
   },
   "file_extension": ".py",
   "mimetype": "text/x-python",
   "name": "python",
   "nbconvert_exporter": "python",
   "pygments_lexer": "ipython3",
   "version": "3.6.3"
  }
 },
 "nbformat": 4,
 "nbformat_minor": 1
}
